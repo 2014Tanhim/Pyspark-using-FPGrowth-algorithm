{
  "nbformat": 4,
  "nbformat_minor": 0,
  "metadata": {
    "colab": {
      "name": "Pyspark using FPGrowth algorithm.ipynb",
      "provenance": []
    },
    "kernelspec": {
      "name": "python3",
      "display_name": "Python 3"
    }
  },
  "cells": [
    {
      "cell_type": "code",
      "metadata": {
        "id": "BJ0D-zXpHT8g",
        "colab_type": "code",
        "outputId": "ffd7c5e6-97b5-4243-8bf9-4ba7245a25d0",
        "colab": {
          "base_uri": "https://localhost:8080/",
          "height": 241
        }
      },
      "source": [
        "!pip install pyspark"
      ],
      "execution_count": 0,
      "outputs": [
        {
          "output_type": "stream",
          "text": [
            "Collecting pyspark\n",
            "\u001b[?25l  Downloading https://files.pythonhosted.org/packages/88/01/a37e827c2d80c6a754e40e99b9826d978b55254cc6c6672b5b08f2e18a7f/pyspark-2.4.0.tar.gz (213.4MB)\n",
            "\u001b[K    100% |████████████████████████████████| 213.4MB 119kB/s \n",
            "\u001b[?25hCollecting py4j==0.10.7 (from pyspark)\n",
            "\u001b[?25l  Downloading https://files.pythonhosted.org/packages/e3/53/c737818eb9a7dc32a7cd4f1396e787bd94200c3997c72c1dbe028587bd76/py4j-0.10.7-py2.py3-none-any.whl (197kB)\n",
            "\u001b[K    100% |████████████████████████████████| 204kB 30.4MB/s \n",
            "\u001b[?25hBuilding wheels for collected packages: pyspark\n",
            "  Building wheel for pyspark (setup.py) ... \u001b[?25ldone\n",
            "\u001b[?25h  Stored in directory: /root/.cache/pip/wheels/cd/54/c2/abfcc942eddeaa7101228ebd6127a30dbdf903c72db4235b23\n",
            "Successfully built pyspark\n",
            "Installing collected packages: py4j, pyspark\n",
            "Successfully installed py4j-0.10.7 pyspark-2.4.0\n"
          ],
          "name": "stdout"
        }
      ]
    },
    {
      "cell_type": "code",
      "metadata": {
        "id": "qObqjSN3Hq_8",
        "colab_type": "code",
        "colab": {}
      },
      "source": [
        "from pyspark.ml.fpm import FPGrowth\n",
        "from pyspark import SparkConf\n",
        "from pyspark.context import SparkContext\n",
        "from pyspark.sql.session import SparkSession\n",
        "sc = SparkContext('local')\n",
        "spark = SparkSession(sc)\n",
        "from pyspark.sql import SQLContext\n",
        "sqlContext = SQLContext(sc)"
      ],
      "execution_count": 0,
      "outputs": []
    },
    {
      "cell_type": "code",
      "metadata": {
        "id": "dwePeBywIOD6",
        "colab_type": "code",
        "outputId": "58b6343f-d731-4eab-ad32-7287c17a5fd9",
        "colab": {
          "resources": {
            "http://localhost:8080/nbextensions/google.colab/files.js": {
              "data": "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",
              "ok": true,
              "headers": [
                [
                  "content-type",
                  "application/javascript"
                ]
              ],
              "status": 200,
              "status_text": ""
            }
          },
          "base_uri": "https://localhost:8080/",
          "height": 74
        }
      },
      "source": [
        "from google.colab import files\n",
        "uploaded = files.upload()\n"
      ],
      "execution_count": 0,
      "outputs": [
        {
          "output_type": "display_data",
          "data": {
            "text/html": [
              "\n",
              "     <input type=\"file\" id=\"files-425b05c1-86fa-4d6d-b983-e1c54b63e8c7\" name=\"files[]\" multiple disabled />\n",
              "     <output id=\"result-425b05c1-86fa-4d6d-b983-e1c54b63e8c7\">\n",
              "      Upload widget is only available when the cell has been executed in the\n",
              "      current browser session. Please rerun this cell to enable.\n",
              "      </output>\n",
              "      <script src=\"/nbextensions/google.colab/files.js\"></script> "
            ],
            "text/plain": [
              "<IPython.core.display.HTML object>"
            ]
          },
          "metadata": {
            "tags": []
          }
        },
        {
          "output_type": "stream",
          "text": [
            "Saving sample.txt to sample.txt\n"
          ],
          "name": "stdout"
        }
      ]
    },
    {
      "cell_type": "code",
      "metadata": {
        "id": "jI7gVHClLx7h",
        "colab_type": "code",
        "colab": {}
      },
      "source": [
        "# This opens a handle to your file, in 'r' read mode\n",
        "file_handle = open('sample.txt', 'r')\n",
        "# Read in all the lines of your file into a list of lines\n",
        "lines_list = file_handle.readlines()\n",
        "# Extract dimensions from first line. Cast values to integers from strings.\n",
        "#cls, rows = (int(val) for val in lines_list[0].split())\n",
        "# Do a double-nested list comprehension to get the rest of the data into your matrix\n",
        "my_data = [[int(val) for val in line.split()] for line in lines_list[0:]]"
      ],
      "execution_count": 0,
      "outputs": []
    },
    {
      "cell_type": "code",
      "metadata": {
        "id": "Eav-dlyJ3Oje",
        "colab_type": "code",
        "outputId": "98d75ee0-e27b-4c84-bbd6-fc5c9ede041b",
        "colab": {
          "base_uri": "https://localhost:8080/",
          "height": 663
        }
      },
      "source": [
        "my_data"
      ],
      "execution_count": 0,
      "outputs": [
        {
          "output_type": "execute_result",
          "data": {
            "text/plain": [
              "[[1, 2, 3, 4, 6, 7, 8, 9, 10, 11, 12, 13],\n",
              " [2, 3, 4, 5],\n",
              " [1, 2, 3, 4, 6, 7, 8, 9, 10, 11, 12, 13],\n",
              " [2, 3, 4, 5],\n",
              " [1, 2, 3, 4, 6, 7, 8, 9, 10, 11, 12, 13],\n",
              " [2, 3, 4, 5],\n",
              " [1, 2, 3, 4, 6, 7, 8, 9, 10, 11, 12, 13],\n",
              " [2, 3, 4, 5],\n",
              " [1, 2, 3, 4, 6, 7, 8, 9, 10, 11, 12, 13],\n",
              " [2, 3, 4, 5],\n",
              " [1, 2, 3, 4, 6, 7, 8, 9, 10, 11, 12, 13],\n",
              " [2, 3, 4, 5],\n",
              " [1, 2, 3, 4, 6, 7, 8, 9, 10, 11, 12, 13],\n",
              " [2, 3, 4, 5],\n",
              " [1, 2, 3, 4, 6, 7, 8, 9, 10, 11, 12, 13],\n",
              " [2, 3, 4, 5],\n",
              " [1, 2, 3, 4, 6, 7, 8, 9, 10, 11, 12, 13],\n",
              " [2, 3, 4, 5],\n",
              " [1, 2, 3, 4, 6, 7, 8, 9, 10, 11, 12, 13],\n",
              " [2, 3, 4, 5],\n",
              " [1, 2, 3, 4, 6, 7, 8, 9, 10, 11, 12, 13],\n",
              " [2, 3, 4, 5],\n",
              " [1, 2, 3, 4, 6, 7, 8, 9, 10, 11, 12, 13],\n",
              " [2, 3, 4, 5],\n",
              " [1, 2, 3, 4, 6, 7, 8, 9, 10, 11, 12, 13],\n",
              " [2, 3, 4, 5],\n",
              " [1, 2, 3, 4, 6, 7, 8, 9, 10, 11, 12, 13],\n",
              " [2, 3, 4, 5],\n",
              " [1, 2, 3, 4, 6, 7, 8, 9, 10, 11, 12, 13],\n",
              " [2, 3, 4, 5],\n",
              " [1, 2, 3, 4, 6, 7, 8, 9, 10, 11, 12, 13],\n",
              " [2, 3, 4, 5],\n",
              " [1, 2, 3, 4, 6, 7, 8, 9, 10, 11, 12, 13],\n",
              " [2, 3, 4, 5],\n",
              " [1, 2, 3, 4, 6, 7, 8, 9, 10, 11, 12, 13],\n",
              " [2, 3, 4, 5],\n",
              " [1, 2, 3, 4, 6, 7, 8, 9, 10, 11, 12, 13],\n",
              " [2, 3, 4, 5]]"
            ]
          },
          "metadata": {
            "tags": []
          },
          "execution_count": 6
        }
      ]
    },
    {
      "cell_type": "code",
      "metadata": {
        "id": "hf4fMTL7OGy3",
        "colab_type": "code",
        "outputId": "ab85b06f-f79c-4913-8a24-bc0b755f7dae",
        "colab": {
          "base_uri": "https://localhost:8080/",
          "height": 527
        }
      },
      "source": [
        "for x in range(30): \n",
        "  print (\"(\",x,\",\",my_data[x],\")\")\n",
        "  \n"
      ],
      "execution_count": 0,
      "outputs": [
        {
          "output_type": "stream",
          "text": [
            "( 0 , [1, 2, 3, 4, 6, 7, 8, 9, 10, 11, 12, 13] )\n",
            "( 1 , [2, 3, 4, 5] )\n",
            "( 2 , [1, 2, 3, 4, 6, 7, 8, 9, 10, 11, 12, 13] )\n",
            "( 3 , [2, 3, 4, 5] )\n",
            "( 4 , [1, 2, 3, 4, 6, 7, 8, 9, 10, 11, 12, 13] )\n",
            "( 5 , [2, 3, 4, 5] )\n",
            "( 6 , [1, 2, 3, 4, 6, 7, 8, 9, 10, 11, 12, 13] )\n",
            "( 7 , [2, 3, 4, 5] )\n",
            "( 8 , [1, 2, 3, 4, 6, 7, 8, 9, 10, 11, 12, 13] )\n",
            "( 9 , [2, 3, 4, 5] )\n",
            "( 10 , [1, 2, 3, 4, 6, 7, 8, 9, 10, 11, 12, 13] )\n",
            "( 11 , [2, 3, 4, 5] )\n",
            "( 12 , [1, 2, 3, 4, 6, 7, 8, 9, 10, 11, 12, 13] )\n",
            "( 13 , [2, 3, 4, 5] )\n",
            "( 14 , [1, 2, 3, 4, 6, 7, 8, 9, 10, 11, 12, 13] )\n",
            "( 15 , [2, 3, 4, 5] )\n",
            "( 16 , [1, 2, 3, 4, 6, 7, 8, 9, 10, 11, 12, 13] )\n",
            "( 17 , [2, 3, 4, 5] )\n",
            "( 18 , [1, 2, 3, 4, 6, 7, 8, 9, 10, 11, 12, 13] )\n",
            "( 19 , [2, 3, 4, 5] )\n",
            "( 20 , [1, 2, 3, 4, 6, 7, 8, 9, 10, 11, 12, 13] )\n",
            "( 21 , [2, 3, 4, 5] )\n",
            "( 22 , [1, 2, 3, 4, 6, 7, 8, 9, 10, 11, 12, 13] )\n",
            "( 23 , [2, 3, 4, 5] )\n",
            "( 24 , [1, 2, 3, 4, 6, 7, 8, 9, 10, 11, 12, 13] )\n",
            "( 25 , [2, 3, 4, 5] )\n",
            "( 26 , [1, 2, 3, 4, 6, 7, 8, 9, 10, 11, 12, 13] )\n",
            "( 27 , [2, 3, 4, 5] )\n",
            "( 28 , [1, 2, 3, 4, 6, 7, 8, 9, 10, 11, 12, 13] )\n",
            "( 29 , [2, 3, 4, 5] )\n"
          ],
          "name": "stdout"
        }
      ]
    },
    {
      "cell_type": "code",
      "metadata": {
        "id": "jmj6qQHETyKp",
        "colab_type": "code",
        "colab": {}
      },
      "source": [
        "x = [( 0 , [1, 2, 3, 4, 6, 7, 8, 9, 10, 11, 12, 13] ),\n",
        "( 1 , [2, 3, 4, 5] ),\n",
        "     ( 2, [1, 2, 3, 4, 6, 7, 8, 9, 10, 11, 12, 13] ),\n",
        "( 3 , [2, 3, 4, 5] ),\n",
        "     ( 4 , [1, 2, 3, 4, 6, 7, 8, 9, 10, 11, 12, 13] ),\n",
        "( 5 , [2, 3, 4, 5] ),\n",
        "      (6 , [1, 2, 3, 4, 6, 7, 8, 9, 10, 11, 12, 13] ),\n",
        "     ( 7 , [1, 2, 3, 4] ),\n",
        "( 8 , [2, 3, 4, 5] ),\n",
        "     ( 9 , [1, 2, 3, 4, 6, 7, 8, 9, 10, 11, 12, 13] ),\n",
        "( 10 , [2, 3, 4, 5] ),\n",
        "( 11 , [6, 7, 8, 9] )]"
      ],
      "execution_count": 0,
      "outputs": []
    },
    {
      "cell_type": "code",
      "metadata": {
        "id": "EhB3bSAiHOPB",
        "colab_type": "code",
        "outputId": "191930b3-fc91-4a5d-de1c-081de0c31be5",
        "colab": {
          "base_uri": "https://localhost:8080/",
          "height": 1190
        }
      },
      "source": [
        "from pyspark.ml.fpm import FPGrowth\n",
        "\n",
        "df = spark.createDataFrame(x, [\"id\", \"items\"])\n",
        "\n",
        "fpGrowth = FPGrowth(itemsCol=\"items\", minSupport=0.5, minConfidence=0.6)\n",
        "model = fpGrowth.fit(df)\n",
        "\n",
        "# Display frequent itemsets.\n",
        "model.freqItemsets.show()\n",
        "\n",
        "# Display generated association rules.\n",
        "model.associationRules.show()\n",
        "\n",
        "# transform examines the input items against all the association rules and summarize the\n",
        "# consequents as prediction\n",
        "model.transform(df).show()"
      ],
      "execution_count": 0,
      "outputs": [
        {
          "output_type": "stream",
          "text": [
            "+------------+----+\n",
            "|       items|freq|\n",
            "+------------+----+\n",
            "|         [2]|  11|\n",
            "|      [2, 3]|  11|\n",
            "|   [2, 3, 4]|  11|\n",
            "|      [2, 4]|  11|\n",
            "|         [7]|   6|\n",
            "|      [7, 6]|   6|\n",
            "|         [6]|   6|\n",
            "|         [8]|   6|\n",
            "|      [8, 7]|   6|\n",
            "|   [8, 7, 6]|   6|\n",
            "|      [8, 6]|   6|\n",
            "|      [8, 9]|   6|\n",
            "|   [8, 9, 7]|   6|\n",
            "|[8, 9, 7, 6]|   6|\n",
            "|   [8, 9, 6]|   6|\n",
            "|         [3]|  11|\n",
            "|      [3, 4]|  11|\n",
            "|         [1]|   6|\n",
            "|      [1, 2]|   6|\n",
            "|   [1, 2, 3]|   6|\n",
            "+------------+----+\n",
            "only showing top 20 rows\n",
            "\n",
            "+----------+----------+----------+-----------------+\n",
            "|antecedent|consequent|confidence|             lift|\n",
            "+----------+----------+----------+-----------------+\n",
            "|    [1, 2]|       [3]|       1.0|1.090909090909091|\n",
            "|    [1, 2]|       [4]|       1.0|1.090909090909091|\n",
            "|       [3]|       [2]|       1.0|1.090909090909091|\n",
            "|       [3]|       [4]|       1.0|1.090909090909091|\n",
            "|    [3, 4]|       [2]|       1.0|1.090909090909091|\n",
            "| [1, 2, 3]|       [4]|       1.0|1.090909090909091|\n",
            "|    [1, 4]|       [2]|       1.0|1.090909090909091|\n",
            "|    [1, 4]|       [3]|       1.0|1.090909090909091|\n",
            "|       [7]|       [6]|       1.0|              2.0|\n",
            "|       [7]|       [8]|       1.0|              2.0|\n",
            "|       [7]|       [9]|       1.0|              2.0|\n",
            "|    [8, 7]|       [6]|       1.0|              2.0|\n",
            "|    [8, 7]|       [9]|       1.0|              2.0|\n",
            "| [1, 2, 4]|       [3]|       1.0|1.090909090909091|\n",
            "| [1, 3, 4]|       [2]|       1.0|1.090909090909091|\n",
            "|    [9, 6]|       [8]|       1.0|              2.0|\n",
            "|    [9, 6]|       [7]|       1.0|              2.0|\n",
            "|    [2, 4]|       [3]|       1.0|1.090909090909091|\n",
            "|       [8]|       [7]|       1.0|              2.0|\n",
            "|       [8]|       [6]|       1.0|              2.0|\n",
            "+----------+----------+----------+-----------------+\n",
            "only showing top 20 rows\n",
            "\n",
            "+---+--------------------+----------+\n",
            "| id|               items|prediction|\n",
            "+---+--------------------+----------+\n",
            "|  0|[1, 2, 3, 4, 6, 7...|        []|\n",
            "|  1|        [2, 3, 4, 5]|        []|\n",
            "|  2|[1, 2, 3, 4, 6, 7...|        []|\n",
            "|  3|        [2, 3, 4, 5]|        []|\n",
            "|  4|[1, 2, 3, 4, 6, 7...|        []|\n",
            "|  5|        [2, 3, 4, 5]|        []|\n",
            "|  6|[1, 2, 3, 4, 6, 7...|        []|\n",
            "|  7|        [1, 2, 3, 4]|        []|\n",
            "|  8|        [2, 3, 4, 5]|        []|\n",
            "|  9|[1, 2, 3, 4, 6, 7...|        []|\n",
            "| 10|        [2, 3, 4, 5]|        []|\n",
            "| 11|        [6, 7, 8, 9]|        []|\n",
            "+---+--------------------+----------+\n",
            "\n"
          ],
          "name": "stdout"
        }
      ]
    },
    {
      "cell_type": "code",
      "metadata": {
        "id": "79T7Zx8GHSqh",
        "colab_type": "code",
        "colab": {}
      },
      "source": [
        ""
      ],
      "execution_count": 0,
      "outputs": []
    }
  ]
}